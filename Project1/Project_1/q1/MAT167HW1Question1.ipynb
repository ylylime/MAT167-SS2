{
  "nbformat": 4,
  "nbformat_minor": 0,
  "metadata": {
    "colab": {
      "provenance": []
    },
    "kernelspec": {
      "name": "python3",
      "display_name": "Python 3"
    },
    "language_info": {
      "name": "python"
    }
  },
  "cells": [
    {
      "cell_type": "code",
      "execution_count": null,
      "metadata": {
        "id": "iFqRqJizE_Cy"
      },
      "outputs": [],
      "source": []
    },
    {
      "cell_type": "markdown",
      "source": [
        "\\usepackage{graphicx} % Required for inserting images\n",
        "\\usepackage{amsmath}\n",
        "\\usepackage{ulem}\n",
        "\\title{MAT167}\n",
        "\\author{Yuchen Liu}\n",
        "\\date{August 2023}\n",
        "\n",
        "\\begin{document}\n",
        "\n",
        "\\maketitle\n",
        "\n",
        "Matrices can be partitioned into several submatrices known as “blocks.” Using a blocked approach,\n",
        "matrix-matrix multiplication can be performed with a divide and conquer approach. Supposed we have\n",
        "two matrices,\n",
        "a) Show that C can be writen as\n",
        "\\begin{equation*}\n",
        "C=\n",
        "    \\begin{pmatrix}\n",
        "    M_{1}+M_{4}+M_{5}-M_{7}& M_{3}+M_{5}\\\\\n",
        "    M_{2}+M_{4}&M_{1}-M_{2}+M_{3}+M_{6}\\\\\n",
        "    \\end{pmatrix}\n",
        "\\end{equation*}\n",
        "Given:\n",
        "\\begin{equation*}\n",
        "\\begin{aligned}\n",
        "M1 &= (A_{11} + A_{22})(B_{11} + B_{22}) \\\\\n",
        "M2 &= (A_{21} + A_{22})B_{11} \\\\\n",
        "M3 &= A_{11}(B_{12} - B_{22}) \\\\\n",
        "M4 &= A_{22}(B_{21} - B_{11}) \\\\\n",
        "M5 &= (A_{11} + A_{12})B_{22} \\\\\n",
        "M6 &= (A_{21} - A_{11})(B_{11} + B_{12}) \\\\\n",
        "M7 &= (A_{12} - A_{22})(B_{21} + B_{22})\n",
        "\\end{aligned}\n",
        "\\end{equation*}\n",
        "for the first column and first row\\\\\n",
        "$M_{1}+M_{4}+M_{5}-M_{7}=$\\\\\n",
        "$A_{11}B_{22}$ + \\sout{$A_{22}B_{11}$} + \\sout{$A_{22}B_{22}$} - \\sout{$A_{22}B_{21}$} - \\sout{$A_{22}B_{11}$} + \\sout{$A_{11}B_{22}$} + \\sout{$A_{12}B_{22}$} + $A_{12}B_{21}$ +\\sout{ $B_{22}A_{12}$} - \\sout{$A_{22}B_{21}$} - \\sout{$A_{22}B_{22}$}\n",
        "\\\\$=A_{11}B_{11}+A_{12}B_{21}$\\\\\n",
        "for the first column and second row\\\\\n",
        "$M3+M5=$\\\\\n",
        "$A_{11}B_{12}$ - \\sout{$A_{11}B_{22} + A_{11}B_{22}$} +$ A_{12}B_{22}$\\\\\n",
        "$=A_{11}B_{12} + A_{12}B_{22}$\\\\\n",
        "for the second column and first row\\\\\n",
        "$M2+M4=$\\\\\n",
        "$A_{21}B_{11}$+\\sout{$A_{22}B{11}$}+$A_{22}B_{21}$-\\sout{$A_{22}B_{11}$}\\\\$=A_{21}B_{11}+A_{22}B_{21}$\\\\\n",
        "for the second column and second row\\\\\n",
        "$M1-M2+M3+M6=$\\\\\n",
        "\\sout{$A_{11}B_{22}$} + \\sout{$A_{22}B_{11}$} + $A_{22}B_{22}$ - \\sout{$A_{22}B_{21}$}-\\sout{$A_{21}B_{11}$}-\\sout{$A_{22}B{11}$}+\\sout{$A_{11}B_{12}$} - \\sout{$A_{11}B_{22}$}+\\sout{$A_{21}B_{11}$}+$A_{21}B_{12}$-\\sout{$A_{11}B_{11}$}-\\sout{$A_{11}B_{12}$}\\\\=$A_{21}B_{12}$+$A_{22}B_{22}$\\\\\n",
        "So we can have :\\\\\n",
        "\\begin{equation*}\n",
        "C=\n",
        "    \\begin{pmatrix}\n",
        "    A_{11}B_{11}+A_{12}B_{21}& A_{11}B_{12} + A_{12}B_{22}\\\\\n",
        "    A_{21}B_{11}+A_{22}B_{21}& A_{21}B_{12}$+$A_{22}B_{22}\\\\\n",
        "    \\end{pmatrix}\n",
        "\\end{equation*}\n",
        "\n"
      ],
      "metadata": {
        "id": "VYvz8vTDFEKR"
      }
    },
    {
      "cell_type": "markdown",
      "source": [
        "(b) Implement this method of blocked matrix multiplication and verify your code works by comparing\n",
        "it to the results of your programming language’s built-in matrix product routine.\n"
      ],
      "metadata": {
        "id": "A2HZytjVFRbd"
      }
    },
    {
      "cell_type": "code",
      "source": [],
      "metadata": {
        "colab": {
          "base_uri": "https://localhost:8080/"
        },
        "id": "aOrpkjEpHgZd",
        "outputId": "237c0988-5627-475f-b429-7304bcf7d16c"
      },
      "execution_count": null,
      "outputs": [
        {
          "output_type": "stream",
          "name": "stdout",
          "text": [
            "1\n"
          ]
        },
        {
          "output_type": "execute_result",
          "data": {
            "text/plain": [
              "2"
            ]
          },
          "metadata": {},
          "execution_count": 8
        }
      ]
    },
    {
      "cell_type": "code",
      "source": [
        "import numpy as np\n",
        "\n",
        "def matrix_multiply(A, B):\n",
        "    A11, A12 = A[0]\n",
        "    A21, A22 = A[1]\n",
        "    B11, B12 = B[0]\n",
        "    B21, B22 = B[1]\n",
        "\n",
        "    M1 = (A11 + A22) * (B11 + B22)\n",
        "    M2 = (A21 + A22) * B11\n",
        "    M3 = A11 * (B12 - B22)\n",
        "    M4 = A22 * (B21 - B11)\n",
        "    M5 = (A11 + A12) * B22\n",
        "    M6 = (A21 - A11) * (B11 + B12)\n",
        "    M7 = (A12 - A22) * (B21 + B22)\n",
        "\n",
        "    C11 = M1 + M4 - M5 + M7\n",
        "    C12 = M3 + M5\n",
        "    C21 = M2 + M4\n",
        "    C22 = M1 - M2 + M3 + M6\n",
        "\n",
        "    result = np.array([[C11, C12], [C21, C22]])\n",
        "    return result\n",
        "\n",
        "# Test the function with example matrices A and B\n",
        "A = np.array([[1, 2], [3, 4]])\n",
        "B = np.array([[5, 6], [7, 8]])\n",
        "C = matrix_multiply(A, B)\n",
        "\n",
        "print(\"Matrix A:\")\n",
        "print(A)\n",
        "print(\"Matrix B:\")\n",
        "print(B)\n",
        "print(\"Resultant Matrix C:\")\n",
        "print(C)\n",
        "np.dot(A, B)"
      ],
      "metadata": {
        "colab": {
          "base_uri": "https://localhost:8080/"
        },
        "id": "-8oHLVvhFLmZ",
        "outputId": "0a923ad7-f1fe-4cda-bfba-ae196bd840df"
      },
      "execution_count": null,
      "outputs": [
        {
          "output_type": "stream",
          "name": "stdout",
          "text": [
            "Matrix A:\n",
            "[[1 2]\n",
            " [3 4]]\n",
            "Matrix B:\n",
            "[[5 6]\n",
            " [7 8]]\n",
            "Resultant Matrix C:\n",
            "[[19 22]\n",
            " [43 50]]\n"
          ]
        },
        {
          "output_type": "execute_result",
          "data": {
            "text/plain": [
              "array([[19, 22],\n",
              "       [43, 50]])"
            ]
          },
          "metadata": {},
          "execution_count": 9
        }
      ]
    },
    {
      "cell_type": "markdown",
      "source": [
        " C)Implement this method recursively such that it keeps subdividing the problem until the blocks of\n",
        "A and B are just scalars"
      ],
      "metadata": {
        "id": "W0d09w5TIEtn"
      }
    },
    {
      "cell_type": "code",
      "source": [
        "import numpy as np\n",
        "\n",
        "def matrix_multiply_recursive(A, B):\n",
        "    if len(A) == 1:\n",
        "        return A * B\n",
        "\n",
        "    n = len(A)\n",
        "    half_n = n // 2\n",
        "\n",
        "    A11 = A[:half_n, :half_n]\n",
        "    A12 = A[:half_n, half_n:]\n",
        "    A21 = A[half_n:, :half_n]\n",
        "    A22 = A[half_n:, half_n:]\n",
        "\n",
        "    B11 = B[:half_n, :half_n]\n",
        "    B12 = B[:half_n, half_n:]\n",
        "    B21 = B[half_n:, :half_n]\n",
        "    B22 = B[half_n:, half_n:]\n",
        "\n",
        "    M1 = matrix_multiply_recursive(A11 + A22, B11 + B22)\n",
        "    M2 = matrix_multiply_recursive(A21 + A22, B11)\n",
        "    M3 = matrix_multiply_recursive(A11, B12 - B22)\n",
        "    M4 = matrix_multiply_recursive(A22, B21 - B11)\n",
        "    M5 = matrix_multiply_recursive(A11 + A12, B22)\n",
        "    M6 = matrix_multiply_recursive(A21 - A11, B11 + B12)\n",
        "    M7 = matrix_multiply_recursive(A12 - A22, B21 + B22)\n",
        "\n",
        "    C11 = M1 + M4 - M5 + M7\n",
        "    C12 = M3 + M5\n",
        "    C21 = M2 + M4\n",
        "    C22 = M1 - M2 + M3 + M6\n",
        "\n",
        "    C = np.vstack((np.hstack((C11, C12)), np.hstack((C21, C22))))\n",
        "    return C\n",
        "\n",
        "# Test the function with example matrices A and B\n",
        "A = np.array([[1, 2, 3, 4], [5, 6, 7, 8], [9, 10, 11, 12], [13, 14, 15, 16]])\n",
        "B = np.array([[16, 15, 14, 13], [12, 11, 10, 9], [8, 7, 6, 5], [4, 3, 2, 1]])\n",
        "C = matrix_multiply_recursive(A, B)\n",
        "\n",
        "print(\"Matrix A:\")\n",
        "print(A)\n",
        "print(\"Matrix B:\")\n",
        "print(B)\n",
        "print(\"Resultant Matrix C:\")\n",
        "print(C)\n",
        "# Perform matrix multiplication using NumPy's built-in function for comparison\n",
        "C_numpy = np.dot(A, B)\n",
        "print(C_numpy)\n",
        "# Check if the results are close\n",
        "print(\"Are the results equal?\", np.allclose(C, C_numpy))"
      ],
      "metadata": {
        "colab": {
          "base_uri": "https://localhost:8080/"
        },
        "id": "kTYpGCyFF90V",
        "outputId": "1c2021a7-c1dc-4741-9329-051b61f6697c"
      },
      "execution_count": null,
      "outputs": [
        {
          "output_type": "stream",
          "name": "stdout",
          "text": [
            "Matrix A:\n",
            "[[ 1  2  3  4]\n",
            " [ 5  6  7  8]\n",
            " [ 9 10 11 12]\n",
            " [13 14 15 16]]\n",
            "Matrix B:\n",
            "[[16 15 14 13]\n",
            " [12 11 10  9]\n",
            " [ 8  7  6  5]\n",
            " [ 4  3  2  1]]\n",
            "Resultant Matrix C:\n",
            "[[ 80  70  60  50]\n",
            " [240 214 188 162]\n",
            " [400 358 316 274]\n",
            " [560 502 444 386]]\n",
            "[[ 80  70  60  50]\n",
            " [240 214 188 162]\n",
            " [400 358 316 274]\n",
            " [560 502 444 386]]\n",
            "Are the results equal? True\n"
          ]
        }
      ]
    },
    {
      "cell_type": "code",
      "source": [
        "# Generate random 64x64 matrices A and B\n",
        "A = np.random.randint(1, 10, (64, 64))\n",
        "B = np.random.randint(1, 10, (64, 64))\n",
        "\n",
        "# Perform matrix multiplication using the recursive function\n",
        "C_recursive = matrix_multiply_recursive(A, B)\n",
        "\n",
        "# Perform matrix multiplication using NumPy's built-in function for comparison\n",
        "C_numpy = np.dot(A, B)\n",
        "\n",
        "# Check if the results are close\n",
        "print(\"Are the results equal?\", np.allclose(C_recursive, C_numpy))"
      ],
      "metadata": {
        "colab": {
          "base_uri": "https://localhost:8080/"
        },
        "id": "xrUoDSZCGURL",
        "outputId": "dfc3e323-da52-4f21-a3a2-e0c2d56f0769"
      },
      "execution_count": null,
      "outputs": [
        {
          "output_type": "stream",
          "name": "stdout",
          "text": [
            "Are the results equal? True\n"
          ]
        }
      ]
    },
    {
      "cell_type": "markdown",
      "source": [
        "D)Numerically compare the asymptotic work for this method and naive matrix multiplication. Here\n",
        "is an exmaple code snippet of very naive matrix multiplication"
      ],
      "metadata": {
        "id": "w4_eWx8gITpN"
      }
    },
    {
      "cell_type": "code",
      "source": [
        "import numpy as np\n",
        "\n",
        "def matrix_multiply_naive(A, B):\n",
        "    if A.shape[1] != B.shape[0]:\n",
        "        raise ValueError(\"Number of columns in matrix A must be equal\")\n",
        "\n",
        "    result = np.zeros((A.shape[0], B.shape[1]))\n",
        "\n",
        "    for i in range(A.shape[0]):\n",
        "        for j in range(B.shape[1]):\n",
        "            for k in range(A.shape[1]):\n",
        "                result[i, j] += A[i, k] * B[k, j]\n",
        "\n",
        "    return result\n"
      ],
      "metadata": {
        "id": "8lFT90BrIR7s"
      },
      "execution_count": null,
      "outputs": []
    },
    {
      "cell_type": "code",
      "source": [
        "import time\n",
        "import matplotlib.pyplot as plt\n",
        "# Compare execution times for different matrix sizes\n",
        "sizes = [2, 4, 8, 16, 32, 64, 128]\n",
        "recursive_times = []\n",
        "naive_times = []\n",
        "\n",
        "for size in sizes:\n",
        "    A = np.random.rand(size, size)\n",
        "    B = np.random.rand(size, size)\n",
        "\n",
        "    start_time = time.time()\n",
        "    matrix_multiply_recursive(A, B)\n",
        "    end_time = time.time()\n",
        "    recursive_times.append(end_time - start_time)\n",
        "\n",
        "    start_time = time.time()\n",
        "    matrix_multiply_naive(A, B)\n",
        "    end_time = time.time()\n",
        "    naive_times.append(end_time - start_time)\n",
        "\n",
        "# Plot the results\n",
        "plt.plot(sizes, recursive_times, label='Recursive')\n",
        "plt.plot(sizes, naive_times, label='Naive')\n",
        "plt.xlabel('Matrix Size')\n",
        "plt.ylabel('Time (seconds)')\n",
        "plt.title('Matrix Multiplication Time Comparison')\n",
        "plt.legend()\n",
        "plt.show()"
      ],
      "metadata": {
        "colab": {
          "base_uri": "https://localhost:8080/",
          "height": 472
        },
        "id": "XSRT2D_IIDfS",
        "outputId": "cce789d2-66d4-4771-eeef-0f962a30a213"
      },
      "execution_count": null,
      "outputs": [
        {
          "output_type": "display_data",
          "data": {
            "text/plain": [
              "<Figure size 640x480 with 1 Axes>"
            ],
            "image/png": "[encoded data removed]"
          },
          "metadata": {}
        }
      ]
    }
  ]
}